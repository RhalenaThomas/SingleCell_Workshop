{
    "cells": [
        {
            "cell_type": "markdown",
            "metadata": {},
            "source": [
                "# Single Cell Analysis in R 2023 Notebook 1\n",
                "\n",
                "This workbook presents the first part of a basic work flow for scRNAseq analysis\n",
                "1. Loading data\n",
                "2. Quality Control\n",
                "   2.1 Cell filtering\n",
                "   2.2 Doublet assessment\n",
                "3. Normalization\n",
                "4. Feature selection\n",
                "5. Dimensionality reduction\n",
                "\n",
                "Example data set description:\n",
                "\n",
                "\n",
                "\n",
                "# Analysis workflow\n",
                "\n",
                "Load your required libraries.\n",
                "You need to have these libraries installed. \n"
            ]
        },
        {
            "cell_type": "code",
            "execution_count": null,
            "metadata": {},
            "outputs": [],
            "source": [
                "Sys.time()\n",
                "library(Seurat)\n",
                "library(tidyverse)\n",
                "library(DoubletFinder)\n"
            ]
        },
        {
            "cell_type": "markdown",
            "metadata": {},
            "source": [
                "Load the data: Starting with the adolescent data.\n",
                "\n"
            ]
        },
        {
            "cell_type": "code",
            "execution_count": null,
            "metadata": {},
            "outputs": [],
            "source": [
                "# load data\n",
                "\n",
                "# insert the pathway to the location of the data\n",
                "setwd(\"C:/Users/Home/Documents/GitHub/SingleCell_Workshop/\")\n",
                "\n",
                "adolescent_data <- Read10X(\"data/Adolescent_14_YO_raw_feature_bc_matrix/\", \n",
                "                      strip.suffix = TRUE )\n",
                "\n",
                "#Look at the dimensions of the matrix\n",
                "dim(adolescent_data)\n",
                "\n",
                "#Look at a small part of the data\n",
                "adolescent_data[1:5, 1:5]\n",
                "\n",
                "#Look at the distribution of the number of UMIs per cell\n",
                "colSums(adolescent_data) %>% summary\n",
                "#Look at the distribution of the number of genes per cell  \n",
                "colSums(adolescent_data > 0) %>% summary\n"
            ]
        },
        {
            "cell_type": "markdown",
            "metadata": {},
            "source": [
                "Remove barcodes with too few genes that could be empty droplets\n",
                "\n"
            ]
        },
        {
            "cell_type": "code",
            "execution_count": null,
            "metadata": {},
            "outputs": [],
            "source": [
                "#Remove barcodes with less than 200 genes detected (you can select a different value here)\n",
                "#You could use something more refined here, like EmptyDrops\n",
                "adolescent_data <- adolescent_data[, colSums(adolescent_data > 0)> 200]\n",
                "dim(adolescent_data)\n"
            ]
        },
        {
            "cell_type": "markdown",
            "metadata": {},
            "source": [
                "Now we have gone from 6794880 barcodes to 7371 barcodes. These barcodes now represent cells. \n",
                "\n",
                "\n",
                "\n",
                "Filter genes and create a Seurat object\n"
            ]
        },
        {
            "cell_type": "code",
            "execution_count": null,
            "metadata": {},
            "outputs": [],
            "source": [
                "#We might not want to include genes that occur in few cells are no cells.  Here we will filter out genes/transcripts that are in less than 3 cells. \n",
                "\n",
                "#Make a Seurat object\n",
                "#Removing any genes detected in less than 3 cells\n",
                "adolescent_data_seurat <- CreateSeuratObject(adolescent_data, project = \"Adolescent\", min.cells = 3)\n",
                "# look at the object dimensions\n",
                "adolescent_data_seurat\n"
            ]
        },
        {
            "cell_type": "markdown",
            "metadata": {},
            "source": [
                "We have now gone from 33538 RNA transcripts/genes to 19866 genes.\n",
                "\n",
                "\n",
                "Now we will look at some metadata in the seurat object\n"
            ]
        },
        {
            "cell_type": "code",
            "execution_count": null,
            "metadata": {},
            "outputs": [],
            "source": [
                "#Look at some metadata\n",
                "adolescent_data_seurat@meta.data %>% names\n",
                "# there are the meta data we currently have in our seurat object\n"
            ]
        },
        {
            "cell_type": "markdown",
            "metadata": {},
            "source": [
                "\n",
                "Data distribution\n"
            ]
        },
        {
            "cell_type": "code",
            "execution_count": null,
            "metadata": {},
            "outputs": [],
            "source": [
                "# look at the distribution of total counts of RNA across cells\n",
                "adolescent_data_seurat$nCount_RNA %>% summary\n",
                "\n",
                "# look at the distribution of unique RNA transcripts across cells\n",
                "\n",
                "adolescent_data_seurat$nFeature_RNA %>% summary\n"
            ]
        },
        {
            "cell_type": "markdown",
            "metadata": {},
            "source": [
                "Visualize the distributions\n",
                "\n"
            ]
        },
        {
            "cell_type": "code",
            "execution_count": null,
            "metadata": {},
            "outputs": [],
            "source": [
                "VlnPlot(adolescent_data_seurat, features = c(\"nCount_RNA\",\"nFeature_RNA\"), pt.size = 0)\n",
                "\n"
            ]
        },
        {
            "cell_type": "markdown",
            "metadata": {},
            "source": [
                "Repeat all these steps with the adult data. \n",
                "\n"
            ]
        },
        {
            "cell_type": "code",
            "execution_count": null,
            "metadata": {},
            "outputs": [],
            "source": [
                "#Repeat above steps for the adult dataset, use a minimum genes per cell barcode cutoff of 200\n",
                "#With real data you would use the same cutoff across samples \n",
                "#You would decide the cutoff based on what works best across your samples. \n",
                "#Can be left as an exercise i.e. no code provided until after the workshop or code provided in a different file\n",
                "\n",
                "adult_data <- Read10X(data.dir = \"data/Adult_41_YO_raw_feature_bc_matrix/\", \n",
                "                    strip.suffix = TRUE)\n",
                "dim(adult_data)\n",
                "adult_data[1:5, 1:5]\n",
                "colSums(adult_data) %>% summary\n",
                "colSums(adult_data > 0) %>% summary\n",
                "adult_data <- adult_data[, colSums(adult_data > 0)> 200]\n",
                "dim(adult_data)\n",
                "adult_data_seurat <- CreateSeuratObject(adult_data, project = \"Adult\", min.cells = 3)\n",
                "adult_data_seurat\n",
                "adult_data_seurat@meta.data %>% names\n",
                "adult_data_seurat$nCount_RNA %>% summary\n"
            ]
        },
        {
            "cell_type": "markdown",
            "metadata": {},
            "source": [
                "Now we want to add some sample meta data\n",
                "\n"
            ]
        },
        {
            "cell_type": "code",
            "execution_count": null,
            "metadata": {},
            "outputs": [],
            "source": [
                "#Make a tibble with the age info\n",
                "colnames(adolescent_data_seurat) %>% head\n",
                "adolescent_sample_metadata <- tibble(Cell_barcodes = colnames(adolescent_data_seurat), \n",
                "                                age = rep(14, dim(adolescent_data_seurat)[2]))\n",
                "head(adolescent_sample_metadata)\n",
                "\n",
                "# this sample is from one brain and the age is 14 years so we will add that data for all the cells\n"
            ]
        },
        {
            "cell_type": "markdown",
            "metadata": {},
            "source": [
                "The cells have previously been annotated - we will add in those annotations\n",
                "\n"
            ]
        },
        {
            "cell_type": "code",
            "execution_count": null,
            "metadata": {},
            "outputs": [],
            "source": [
                "# input file path\n",
                "\n",
                "input_file <- paste(\"data/HA799_14YO_metadata.csv\",sep=\"\")\n",
                "\n",
                "#Read in metadata file with original cluster info\n",
                "adolescent_sample_clusters <- read_csv(file = input_file)\n",
                "head(adolescent_sample_clusters)\n"
            ]
        },
        {
            "cell_type": "markdown",
            "metadata": {},
            "source": [
                "\n",
                "Select the columns we need\n"
            ]
        },
        {
            "cell_type": "code",
            "execution_count": null,
            "metadata": {},
            "outputs": [],
            "source": [
                "adolescent_sample_clusters <- adolescent_sample_clusters %>% select(-c(2:7))\n",
                "\n",
                "colnames(adolescent_sample_clusters) <- c(\"Cell_barcodes\",\"Original_clusterID\")\n",
                "\n",
                "head(adolescent_sample_clusters)\n"
            ]
        },
        {
            "cell_type": "markdown",
            "metadata": {},
            "source": [
                "\n",
                "Now we will combine the two meta data ojbects and add the meta data into the Seurat object\n"
            ]
        },
        {
            "cell_type": "code",
            "execution_count": null,
            "metadata": {},
            "outputs": [],
            "source": [
                "#Combine the age and original cluster metadata into a single object\n",
                "#Note that not all the cells we have retained were present in the original analysis, we will keep all our called cells\n",
                "adolescent_sample_metadata %>% left_join(adolescent_sample_clusters, by = \"Cell_barcodes\") %>% \n",
                "  column_to_rownames(\"Cell_barcodes\") %>% as.data.frame -> adolescent_sample_metadata\n",
                "adolescent_sample_metadata %>% head \n",
                "\n",
                "#Here we add the metadata to our Seurat object \n",
                "adolescent_data_seurat <- AddMetaData(adolescent_data_seurat, metadata = adolescent_sample_metadata)\n",
                "adolescent_data_seurat@meta.data %>% head\n"
            ]
        },
        {
            "cell_type": "markdown",
            "metadata": {},
            "source": [
                "\n",
                "\n"
            ]
        },
        {
            "cell_type": "code",
            "execution_count": null,
            "metadata": {},
            "outputs": [],
            "source": [
                "#Remove the original matrix, and other unnecessary objects to clean up space \n",
                "rm(adolescent_data, adolescent_sample_metadata, adolescent_sample_clusters)\n"
            ]
        },
        {
            "cell_type": "markdown",
            "metadata": {},
            "source": [
                "\n",
                "Repeat adding meta data for the adult object\n"
            ]
        },
        {
            "cell_type": "code",
            "execution_count": null,
            "metadata": {},
            "outputs": [],
            "source": [
                "#Repeat the process of adding metadata for the adult sample\n",
                "input_file <- paste(\"data/HA801_41YO_metadata.csv\",sep=\"\")\n",
                "\n",
                "adult_sample_metadata <- tibble(CellName = colnames(adult_data_seurat), \n",
                "                                age = rep(41, dim(adult_data_seurat)[2]))\n",
                "adult_sample_clusters <- read_csv(file = input_file) %>% select(-c(2:7))\n",
                "colnames(adult_sample_clusters) <- c(\"CellName\", \"OriginalCluster\")\n",
                "adult_sample_metadata %>% full_join(adult_sample_clusters, by = \"CellName\") %>% \n",
                "  column_to_rownames(\"CellName\") %>% as.data.frame -> adult_sample_metadata\n",
                "adult_data_seurat <- AddMetaData(adult_data_seurat, metadata = adult_sample_metadata)\n",
                "adult_data_seurat@meta.data %>% head\n",
                "# clean up extra files\n",
                "rm(adult_data, adult_sample_clusters, adult_sample_metadata)\n"
            ]
        },
        {
            "cell_type": "markdown",
            "metadata": {},
            "source": [
                "Filter out unwanted cells\n",
                "\n"
            ]
        },
        {
            "cell_type": "code",
            "execution_count": null,
            "metadata": {},
            "outputs": [],
            "source": [
                "# Example cell filtering based on mitochondrial count percentage and number of UMIs ----------\n",
                "\n",
                "#Calculate the percentage of mitochondrially encoded mitochondrial genes\n",
                "adolescent_data_seurat <- PercentageFeatureSet(adolescent_data_seurat, pattern = \"^MT-\", col.name = \"percent.MT\")\n",
                "adolescent_data_seurat$percent.MT %>% summary\n"
            ]
        },
        {
            "cell_type": "markdown",
            "metadata": {},
            "source": [
                "\n",
                "Visualize the mitochondria\n"
            ]
        },
        {
            "cell_type": "code",
            "execution_count": null,
            "metadata": {},
            "outputs": [],
            "source": [
                "VlnPlot(adolescent_data_seurat, features = \"percent.MT\", pt.size = 0.001)\n",
                "\n",
                "#Remove any cells with more than 20% mitochondrial counts\n",
                "adolescent_data_seurat <- subset(adolescent_data_seurat, percent.MT < 20)\n",
                "\n",
                "#Remove cells with very high UMI counts, which may be possible multiplets\n",
                "adolescent_data_seurat <- subset(adolescent_data_seurat, nCount_RNA < 20000)\n",
                "\n",
                "# see the results\n",
                "VlnPlot(adolescent_data_seurat, features = c(\"percent.MT\", \"nCount_RNA\", \"nFeature_RNA\"), pt.size = 0.001)\n"
            ]
        },
        {
            "cell_type": "markdown",
            "metadata": {},
            "source": [
                "Repeat filtering for the adult sample\n",
                "\n"
            ]
        },
        {
            "cell_type": "code",
            "execution_count": null,
            "metadata": {},
            "outputs": [],
            "source": [
                "#Repeat filtering based on mitochondrial genes and number of UMIs for the adult sample\n",
                "#Use the same criteria as we used for the adolescent sample\n",
                "#Can be left as an exercise\n",
                "adult_data_seurat <- PercentageFeatureSet(adult_data_seurat, pattern = \"^MT-\", col.name = \"percent.MT\")\n",
                "adult_data_seurat$percent.MT %>% summary\n",
                "adult_data_seurat <- subset(adult_data_seurat, percent.MT < 20)\n",
                "VlnPlot(adult_data_seurat, features = c(\"percent.MT\", \"nCount_RNA\", \"nFeature_RNA\"))\n",
                "adult_data_seurat <- subset(adult_data_seurat, nCount_RNA < 20000)\n",
                "VlnPlot(adult_data_seurat, features = c(\"percent.MT\", \"nCount_RNA\", \"nFeature_RNA\"))\n"
            ]
        },
        {
            "cell_type": "markdown",
            "metadata": {},
            "source": [
                "\n",
                "Cell cycle scoring (optional)\n"
            ]
        },
        {
            "cell_type": "code",
            "execution_count": null,
            "metadata": {},
            "outputs": [],
            "source": [
                "adolescent_data_seurat <- CellCycleScoring(adolescent_data_seurat, g2m.features = cc.genes$g2m.genes, s.features = cc.genes$s.genes)\n",
                "VlnPlot(adolescent_data_seurat, features = c(\"S.Score\", \"G2M.Score\"))\n",
                "\n",
                "adult_data_seurat <- CellCycleScoring(adult_data_seurat, g2m.features = cc.genes$g2m.genes, s.features = cc.genes$s.genes)\n",
                "VlnPlot(adult_data_seurat, features = c(\"S.Score\", \"G2M.Score\"))\n"
            ]
        },
        {
            "cell_type": "markdown",
            "metadata": {},
            "source": "Data normalization\n"
        },
        {
            "cell_type": "code",
            "execution_count": null,
            "metadata": {},
            "outputs": [],
            "source": [
                "# Normalize data (log normalization) and select genes with variable expression across cells --------------------------------------\n",
                "\n",
                "adolescent_data_seurat <- NormalizeData(adolescent_data_seurat, normalization.method = \"LogNormalize\", scale.factor = 10000)\n",
                "\n",
                "#Check out the effect of normalization\n",
                "GetAssayData(adolescent_data_seurat, assay = \"RNA\", slot = \"data\") %>% expm1 %>% colSums %>% head\n",
                "GetAssayData(adolescent_data_seurat, assay = \"RNA\", slot = \"counts\") %>% colSums %>% head\n"
            ]
        },
        {
            "cell_type": "markdown",
            "metadata": {},
            "source": "Finding Variable feature with two different methods\n"
        },
        {
            "cell_type": "code",
            "execution_count": null,
            "metadata": {},
            "outputs": [],
            "source": [
                "# Dispersion\n",
                "#Find and plot variable features (in our case genes) with dispersion based method\n",
                "adolescent_data_seurat <- FindVariableFeatures(adolescent_data_seurat, selection.method = \"disp\", nfeatures = 2000)\n",
                "VariableFeaturePlot(adolescent_data_seurat)\n",
                "disp_var  <- VariableFeatures(adolescent_data_seurat)\n"
            ]
        },
        {
            "cell_type": "markdown",
            "metadata": {},
            "source": "\n"
        },
        {
            "cell_type": "code",
            "execution_count": null,
            "metadata": {},
            "outputs": [],
            "source": [
                "# VST\n",
                "#Find and plot variable features (in our case genes) with vst based method\n",
                "adolescent_data_seurat <- FindVariableFeatures(adolescent_data_seurat, selection.method = \"vst\", nfeatures = 2000)\n",
                "\n",
                "VariableFeaturePlot(adolescent_data_seurat)\n"
            ]
        },
        {
            "cell_type": "markdown",
            "metadata": {},
            "source": [
                "\n",
                "Compare both\n"
            ]
        },
        {
            "cell_type": "code",
            "execution_count": null,
            "metadata": {},
            "outputs": [],
            "source": [
                "#Compare the two methods, look at some of the variable genes\n",
                "intersect(disp_var, VariableFeatures(adolescent_data_seurat)) %>% length\n",
                "VariableFeatures(adolescent_data_seurat) %>% head(n = 20)\n"
            ]
        },
        {
            "cell_type": "markdown",
            "metadata": {},
            "source": [
                "\n",
                "Repeat for the adult sample\n"
            ]
        },
        {
            "cell_type": "code",
            "execution_count": null,
            "metadata": {},
            "outputs": [],
            "source": [
                "#Repeat normalization and variable feature selection for adult sample\n",
                "#Use method vst and 2000 variable features \n",
                "#Can be left as an exercise \n",
                "\n",
                "adult_data_seurat <- NormalizeData(adult_data_seurat, normalization.method = \"LogNormalize\", scale.factor = 10000)\n",
                "adult_data_seurat <- FindVariableFeatures(adult_data_seurat, selection.method = \"vst\", nfeatures = 2000)\n",
                "VariableFeaturePlot(adult_data_seurat)\n",
                "VariableFeatures(adult_data_seurat) %>% head(n = 20)\n"
            ]
        },
        {
            "cell_type": "markdown",
            "metadata": {},
            "source": [
                "Dimensionality reduction PCA and UMAP\n",
                "\n"
            ]
        },
        {
            "cell_type": "code",
            "execution_count": null,
            "metadata": {},
            "outputs": [],
            "source": [
                "#Scaling is recommended before PCA, as otherwise highly expressed genes will have a disproportionate effect\n",
                "adolescent_data_seurat <- ScaleData(adolescent_data_seurat, vars.to.regress = \"percent.MT\")\n",
                "adolescent_data_seurat@assays$RNA@scale.data %>% dim\n",
                "\n",
                "#Linear dimensionality reduction\n",
                "#Choosing the number of PCs can depend on how many cells you have\n",
                "adolescent_data_seurat <- RunPCA(adolescent_data_seurat, assay = \"RNA\", npcs = 30)\n",
                "#PCAPlot(adolescent_data_seurat, group.by = \"Original_clusterID\")\n",
                "# this a confusing because we won't normally have this \n",
                "\n",
                "PCAPlot(adolescent_data_seurat)\n",
                "\n",
                "#Assess how many PCs capture most of the information in the data \n",
                "ElbowPlot(adolescent_data_seurat, ndims = 30)\n"
            ]
        },
        {
            "cell_type": "markdown",
            "metadata": {},
            "source": [
                "\n",
                "\n"
            ]
        },
        {
            "cell_type": "code",
            "execution_count": null,
            "metadata": {},
            "outputs": [],
            "source": [
                "# Jackstraw\n",
                "\n",
                "#Assess how many PCs capture most of the information in the data \n",
                "adolescent_data_seurat <-JackStraw(adolescent_data_seurat, reduction = \"pca\",\n",
                "  dims = 30)\n",
                "adolescent_data_seurat <- ScoreJackStraw(adolescent_data_seurat, reduction = \"pca\", dims = 1:30)\n",
                "JackStrawPlot(adolescent_data_seurat, dims = 1:30)\n"
            ]
        },
        {
            "cell_type": "markdown",
            "metadata": {},
            "source": [
                "\n",
                "Non-linear dimensional reduction using UMAP\n"
            ]
        },
        {
            "cell_type": "code",
            "execution_count": null,
            "metadata": {},
            "outputs": [],
            "source": [
                "#Non-linear dimensionality reduction\n",
                "#Choosing how many PCs to input can depend on the elbow plot and on the number of cells\n",
                "#There are many parameters that can e tweaked and optimized in a UMAP plot\n",
                "#You can see some demos here: https://pair-code.github.io/understanding-umap/\n",
                "adolescent_data_seurat <- RunUMAP(adolescent_data_seurat, dims = 1:10)\n",
                "UMAPPlot(adolescent_data_seurat)\n"
            ]
        },
        {
            "cell_type": "markdown",
            "metadata": {},
            "source": [
                "\n",
                "Repeat dimensional reduction with the adult sample\n"
            ]
        },
        {
            "cell_type": "code",
            "execution_count": null,
            "metadata": {},
            "outputs": [],
            "source": [
                "#Repeat dimensional reduction for adult sample, use 10 PCs for \n",
                "adult_data_seurat <- ScaleData(adult_data_seurat, vars.to.regress = \"percent.MT\")\n",
                "adult_data_seurat <- RunPCA(adult_data_seurat, assay = \"RNA\", npcs = 30)\n",
                "PCAPlot(adult_data_seurat)\n",
                "ElbowPlot(adult_data_seurat)\n",
                "adult_data_seurat <- RunUMAP(adult_data_seurat, dims = 1:10)\n",
                "UMAPPlot(adult_data_seurat)\n"
            ]
        },
        {
            "cell_type": "markdown",
            "metadata": {},
            "source": [
                "Doublet identification\n",
                "\n"
            ]
        },
        {
            "cell_type": "code",
            "execution_count": null,
            "metadata": {},
            "outputs": [],
            "source": [
                "# Assess possible doublets  -----------------------------------------------\n",
                "#Using instructions here: https://github.com/chris-mcginnis-ucsf/\n",
                "\n",
                "#First we have to find a pK which determines how big of a neighborhood will be examined for doublets\n",
                "#This should be chosen for each library separately\n",
                "#First we test a number of pN (proportion of generated artificial doublets) and pK\n",
                "#We get different lists of probabilities of artifical nearest neighbors with these tested parameters\n",
                "#Also keep in mind the results are not deterministic (every run will give slightly different results)\n",
                "sweep.res.list_adolescent <- paramSweep_v3(adolescent_data_seurat, PCs = 1:15, sct = FALSE)\n",
                "\n",
                "#We do not have the \"ground truth\" regarding doublets, such from from genotype data for pooled samples \n",
                "#We sumamrize the performance of the range of pN=pK parameters we tested\n",
                "sweep.stats_adolescent <- summarizeSweep(sweep.res.list_adolescent, GT = FALSE)\n",
                "\n",
                "#Here the \"best\" pK for the data is chosen based on a metric determined by the DoubletFinder developers\n",
                "#Which performs best in datasets where the ground truth is known\n",
                "bcmvn_adolescent <- find.pK(sweep.stats_adolescent)\n",
                "ggplot(bcmvn_adolescent, aes(x = pK, y = BCmetric, group = \"Sweep\")) + geom_point() + geom_line() + \n",
                "  theme(axis.text.x = element_text(angle = 90))\n",
                "\n",
                "#We will pick pK = 0.29\n",
                "#We are not going to use our clustering information to estimate \"homotypic\" doublets\n",
                "#We are simply going to use an expected doublet formation rate of 7.5%\n",
                "nExp_poi <- round(0.075*nrow(adolescent_data_seurat@meta.data))\n",
                "adolescent_data_seurat <- doubletFinder_v3(adolescent_data_seurat, PCs = 1:15, pN = 0.25, pK = 0.09, nExp = nExp_poi, reuse.pANN = FALSE, sct = FALSE)\n",
                "\n",
                "#Here we update the Seurat object version just in case the one returned by DoubletFinder is an older version\n",
                "adolescent_data_seurat <- UpdateSeuratObject(adolescent_data_seurat)\n",
                "\n",
                "#Visualize and assess the cells called as probable doublets\n",
                "UMAPPlot(adolescent_data_seurat, group.by = \"DF.classifications_0.25_0.09_533\")\n",
                "\n",
                "# table of doublets and signlets\n",
                "adolescent_data_seurat$DF.classifications_0.25_0.09_533 %>% table\n",
                "\n",
                "# visualize the features in doublets and singlets\n",
                "VlnPlot(adolescent_data_seurat, features = c(\"nCount_RNA\", \"nFeature_RNA\", \"percent.MT\", \"pANN_0.25_0.09_533\"), \n",
                "        group.by = \"DF.classifications_0.25_0.09_533\", pt.size = 0.001)\n"
            ]
        },
        {
            "cell_type": "markdown",
            "metadata": {},
            "source": [
                "Repeat doublet detection in adult sample\n",
                "\n"
            ]
        },
        {
            "cell_type": "code",
            "execution_count": null,
            "metadata": {},
            "outputs": [],
            "source": [
                "#Repeat the above analysis with the adult sample\n",
                "sweep.res.list_adult <- paramSweep_v3(adult_data_seurat, PCs = 1:10, sct = FALSE)\n",
                "sweep.stats_adult <- summarizeSweep(sweep.res.list_adult, GT = FALSE)\n",
                "bcmvn_adult <- find.pK(sweep.stats_adult)\n",
                "ggplot(bcmvn_adult, aes(x = pK, y = BCmetric, group = \"Sweep\")) + geom_point() + geom_line() +\n",
                "  theme(axis.text.x = element_text(angle = 90))\n",
                "nExp_poi <- round(0.075*nrow(adult_data_seurat@meta.data))\n",
                "adult_data_seurat <- doubletFinder_v3(adult_data_seurat, PCs = 1:10, pN = 0.25, pK = 0.17, nExp = nExp_poi, reuse.pANN = FALSE, sct = FALSE)\n",
                "adult_data_seurat <- UpdateSeuratObject(adult_data_seurat)\n",
                "\n",
                "UMAPPlot(adult_data_seurat, group.by = \"DF.classifications_0.25_0.17_146\")\n",
                "adult_data_seurat$DF.classifications_0.25_0.17_146 %>% table\n",
                "VlnPlot(adult_data_seurat, features = c(\"nCount_RNA\", \"nFeature_RNA\", \"percent.MT\", \"pANN_0.25_0.187_146\"), \n",
                "        group.by = \"DF.classifications_0.25_0.17_146\", pt.size = 0.001)\n"
            ]
        },
        {
            "cell_type": "markdown",
            "metadata": {},
            "source": [
                "Save the data objects for later\n",
                "\n"
            ]
        },
        {
            "cell_type": "code",
            "execution_count": null,
            "metadata": {},
            "outputs": [],
            "source": [
                "saveRDS(adolescent_data_seurat, \"adolsecentSeurate.Rds\")\n",
                "saveRDS(adult_data_seurat, \"adultSeurate.Rds\")\n",
                "Sys.time()\n"
            ]
        },
        {
            "cell_type": "markdown",
            "metadata": {},
            "source": [
                "\n",
                "\n"
            ]
        }
    ],
    "metadata": {
        "anaconda-cloud": "",
        "kernelspec": {
            "display_name": "R",
            "langauge": "R",
            "name": "ir"
        },
        "language_info": {
            "codemirror_mode": "r",
            "file_extension": ".r",
            "mimetype": "text/x-r-source",
            "name": "R",
            "pygments_lexer": "r",
            "version": "3.4.1"
        }
    },
    "nbformat": 4,
    "nbformat_minor": 1
}
